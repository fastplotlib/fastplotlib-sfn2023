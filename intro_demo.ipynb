{
 "cells": [
  {
   "cell_type": "markdown",
   "id": "82ac33b1-e7f1-403d-ab1d-7eea49ac1d13",
   "metadata": {},
   "source": [
    "# Introduction to `fastplotlib`"
   ]
  },
  {
   "cell_type": "markdown",
   "id": "dca65505-89fb-48dd-ad9d-5474b2d48573",
   "metadata": {},
   "source": [
    "## `fastplotlib` API\n",
    "\n",
    "### 1. Graphics - objects that are drawn\n",
    "- `Image`, `Line`, `Scatter`, `Heatmap`\n",
    "- Collections - `LineCollection`, `LineStack` (ex: neural timeseries data)\n",
    "- Interactions\n",
    "\n",
    "### 2. Layouts\n",
    "- `Plot` - a single plot area\n",
    "- `GridPlot` - a grid of `Subplots`\n",
    "\n",
    "### 3. Widgets - high level widgets to make repetitive UIs easier\n",
    "- `ImageWidget`- n-dimensional widget for `Image` data\n",
    "- Sliders, support window functions, `GridPlot`, etc."
   ]
  },
  {
   "cell_type": "markdown",
   "id": "6bd135ba-064b-4afc-9346-8aac6d9502ba",
   "metadata": {},
   "source": [
    "This notebook will go through some basic components of the `fastplotlib` API including how to instantiate a plot, add graphics to a plot, and subsequently interact with the plot. "
   ]
  },
  {
   "cell_type": "markdown",
   "id": "ecbe5ff9-0dc3-4326-9dac-6210fc2c2ea5",
   "metadata": {},
   "source": [
    "**The example images are from imageio so you will need to install it for this example notebook. But imageio is not required to use fasptlotlib**"
   ]
  },
  {
   "cell_type": "code",
   "execution_count": 1,
   "id": "00999a9c-5a0c-410e-bab6-aece8ae6410d",
   "metadata": {},
   "outputs": [],
   "source": [
    "import imageio.v3 as iio"
   ]
  },
  {
   "cell_type": "code",
   "execution_count": 2,
   "id": "05ff0e64-f770-4923-9238-17373604252e",
   "metadata": {},
   "outputs": [],
   "source": [
    "import fastplotlib as fpl\n",
    "import numpy as np"
   ]
  },
  {
   "cell_type": "markdown",
   "id": "31a5c661-95ea-41bd-9583-28dd17ad63ed",
   "metadata": {},
   "source": [
    "## Simple image"
   ]
  },
  {
   "cell_type": "code",
   "execution_count": 3,
   "id": "08d07bc5-a5f9-48c8-8639-b48d37de983c",
   "metadata": {},
   "outputs": [
    {
     "data": {
      "application/vnd.jupyter.widget-view+json": {
       "model_id": "2213c51d42434c17882fb9479aa72f9c",
       "version_major": 2,
       "version_minor": 0
      },
      "text/plain": [
       "RFBOutputContext()"
      ]
     },
     "metadata": {},
     "output_type": "display_data"
    },
    {
     "name": "stderr",
     "output_type": "stream",
     "text": [
      "No config found!\n",
      "No config found!\n"
     ]
    },
    {
     "data": {
      "text/plain": [
       "JupyterOutputContext(children=(JupyterWgpuCanvas(css_height='500px', css_width='600px'), IpywidgetToolBar(children=(Button(icon='expand-arrows-alt', layout=Layout(width='auto'), style=ButtonStyle(), tooltip='auto-scale scene'), Button(icon='align-center', layout=Layout(width='auto'), style=ButtonStyle(), tooltip='auto-center scene'), ToggleButton(value=True, icon='hand-pointer', layout=Layout(width='auto'), tooltip='panzoom controller'), ToggleButton(value=True, description='1:1', layout=Layout(width='auto'), style=ToggleButtonStyle(font_weight='bold'), tooltip='maintain aspect'), Button(icon='arrow-down', layout=Layout(width='auto'), style=ButtonStyle(), tooltip='y-axis direction'), Button(icon='draw-polygon', layout=Layout(width='auto'), style=ButtonStyle(), tooltip='add PolygonSelector'), ToggleButton(value=False, icon='video', layout=Layout(width='auto'), tooltip='record')))))"
      ]
     },
     "execution_count": 3,
     "metadata": {},
     "output_type": "execute_result"
    }
   ],
   "source": [
    "# create a `Plot` instance\n",
    "plot = fpl.Plot(size=(600, 500))\n",
    "\n",
    "# get a grayscale image\n",
    "data = iio.imread(\"imageio:camera.png\")\n",
    "\n",
    "# plot the image data\n",
    "image_graphic = plot.add_image(data=data, name=\"sample-image\")\n",
    "\n",
    "plot.show(sidecar=True)"
   ]
  },
  {
   "cell_type": "markdown",
   "id": "355bfe8a-d96e-4100-82a5-535ae7bca73e",
   "metadata": {},
   "source": [
    "**Use the handle on the bottom right corner of the canvas to resize it. You can also pan and zoom using your mouse!**"
   ]
  },
  {
   "cell_type": "markdown",
   "id": "0f82071e-6d57-4b4b-882a-7889a2af9794",
   "metadata": {},
   "source": [
    "Changing graphic **\"features\"**"
   ]
  },
  {
   "cell_type": "code",
   "execution_count": 4,
   "id": "4523cae1-998d-4d84-a282-b29a47e95a54",
   "metadata": {},
   "outputs": [],
   "source": [
    "image_graphic.cmap = \"viridis\""
   ]
  },
  {
   "cell_type": "markdown",
   "id": "0e31c927-3515-494f-8353-8cddb62129ef",
   "metadata": {},
   "source": [
    "### Slicing data\n",
    "\n",
    "**Most features, such as data, support slicing!**\n",
    "\n",
    "Our image data is of shape [n_rows, n_columns]"
   ]
  },
  {
   "cell_type": "code",
   "execution_count": 5,
   "id": "4483a4b1-2662-4f0a-a6bc-15688244b3c8",
   "metadata": {},
   "outputs": [],
   "source": [
    "image_graphic.data[::15, :] = 1\n",
    "image_graphic.data[:, ::15] = 1"
   ]
  },
  {
   "cell_type": "markdown",
   "id": "32039f8d-3ff2-46f6-a327-b3377b775ac2",
   "metadata": {},
   "source": [
    "**Fancy indexing**"
   ]
  },
  {
   "cell_type": "code",
   "execution_count": 6,
   "id": "344bfe66-618c-44cc-905e-0b1308302f11",
   "metadata": {},
   "outputs": [],
   "source": [
    "image_graphic.data[data > 175] = 255"
   ]
  },
  {
   "cell_type": "markdown",
   "id": "745524ea-e81c-4f95-81ee-fa389538e38d",
   "metadata": {},
   "source": [
    "**Adjust vmin vmax**"
   ]
  },
  {
   "cell_type": "code",
   "execution_count": 7,
   "id": "d88e1bcd-9523-40e0-8963-9e68c9ce8b53",
   "metadata": {},
   "outputs": [],
   "source": [
    "image_graphic.cmap.vmin = 50\n",
    "image_graphic.cmap.vmax = 150"
   ]
  },
  {
   "cell_type": "code",
   "execution_count": 8,
   "id": "91e280d1-30b6-4f42-b3a0-76433e70ce61",
   "metadata": {},
   "outputs": [],
   "source": [
    "image_graphic.cmap.reset_vmin_vmax()"
   ]
  },
  {
   "cell_type": "code",
   "execution_count": 9,
   "id": "2fb3d4d7-6bb0-41b5-88c6-cf646de0c3a4",
   "metadata": {},
   "outputs": [],
   "source": [
    "# close the plot\n",
    "plot.close()"
   ]
  },
  {
   "cell_type": "markdown",
   "id": "18ea1301-f651-4ea0-8389-10195e6b4916",
   "metadata": {},
   "source": [
    "### Image updates\n",
    "\n",
    "This examples show how you can define animation functions that run on every render cycle."
   ]
  },
  {
   "cell_type": "code",
   "execution_count": 11,
   "id": "1627ca14-af3b-4538-bddf-26c948a69277",
   "metadata": {},
   "outputs": [
    {
     "data": {
      "application/vnd.jupyter.widget-view+json": {
       "model_id": "667f830717ed4e8a81e4361665df08ba",
       "version_major": 2,
       "version_minor": 0
      },
      "text/plain": [
       "RFBOutputContext()"
      ]
     },
     "metadata": {},
     "output_type": "display_data"
    },
    {
     "data": {
      "text/plain": [
       "JupyterOutputContext(children=(JupyterWgpuCanvas(css_height='500px', css_width='600px'), IpywidgetToolBar(children=(Button(icon='expand-arrows-alt', layout=Layout(width='auto'), style=ButtonStyle(), tooltip='auto-scale scene'), Button(icon='align-center', layout=Layout(width='auto'), style=ButtonStyle(), tooltip='auto-center scene'), ToggleButton(value=True, icon='hand-pointer', layout=Layout(width='auto'), tooltip='panzoom controller'), ToggleButton(value=True, description='1:1', layout=Layout(width='auto'), style=ToggleButtonStyle(font_weight='bold'), tooltip='maintain aspect'), Button(icon='arrow-down', layout=Layout(width='auto'), style=ButtonStyle(), tooltip='y-axis direction'), Button(icon='draw-polygon', layout=Layout(width='auto'), style=ButtonStyle(), tooltip='add PolygonSelector'), ToggleButton(value=False, icon='video', layout=Layout(width='auto'), tooltip='record')))))"
      ]
     },
     "execution_count": 11,
     "metadata": {},
     "output_type": "execute_result"
    }
   ],
   "source": [
    "# create another `Plot` instance\n",
    "plot_v = fpl.Plot(size=(600, 500))\n",
    "\n",
    "plot.canvas.max_buffered_frames = 1\n",
    "\n",
    "# make some random data again\n",
    "data = np.random.rand(512, 512)\n",
    "\n",
    "# plot the data\n",
    "plot_v.add_image(data=data, name=\"random-image\")\n",
    "\n",
    "# a function to update the image_graphic\n",
    "# a plot will pass its plot instance to the animation function as an arugment\n",
    "def update_data(plot_instance):\n",
    "    new_data = np.random.rand(512, 512)\n",
    "    plot_instance[\"random-image\"].data = new_data\n",
    "\n",
    "#add this as an animation function\n",
    "plot_v.add_animations(update_data)\n",
    "\n",
    "plot_v.show(sidecar=True)"
   ]
  },
  {
   "cell_type": "code",
   "execution_count": 12,
   "id": "f2bf1a5e-16e9-44fd-840d-7d3a5fc705b0",
   "metadata": {},
   "outputs": [],
   "source": [
    "plot_v.close()"
   ]
  },
  {
   "cell_type": "markdown",
   "id": "09f73cd1-fde5-48a0-81c8-525e9ce378ca",
   "metadata": {},
   "source": [
    "## 2D line plots\n",
    "\n",
    "This example plots a sine wave, cosine wave, and ricker wavelet and demonstrates how Graphic Features can be modified by slicing!"
   ]
  },
  {
   "cell_type": "markdown",
   "id": "75b849c7-0fd9-4db1-8c45-d20662255a37",
   "metadata": {},
   "source": [
    "### First generate some data."
   ]
  },
  {
   "cell_type": "code",
   "execution_count": 13,
   "id": "44a69922-f259-4f02-879d-fdb83a46203d",
   "metadata": {},
   "outputs": [],
   "source": [
    "# linspace, create 100 evenly spaced x values from -10 to 10\n",
    "xs = np.linspace(-10, 10, 100)\n",
    "# sine wave\n",
    "ys = np.sin(xs)\n",
    "sine = np.dstack([xs, ys])[0]\n",
    "\n",
    "# cosine wave\n",
    "ys = np.cos(xs) + 5\n",
    "cosine = np.dstack([xs, ys])[0]\n",
    "\n",
    "# sinc function\n",
    "a = 0.5\n",
    "ys = np.sinc(xs) * 3 + 8\n",
    "sinc = np.dstack([xs, ys])[0]"
   ]
  },
  {
   "cell_type": "markdown",
   "id": "71b86518-54a6-4054-bd0e-0c2e124607a7",
   "metadata": {},
   "source": [
    "### We will plot all of it on the same plot. Each line plot will be an individual Graphic, you can have any combination of graphics on a plot."
   ]
  },
  {
   "cell_type": "code",
   "execution_count": 14,
   "id": "e79417f4-3aea-466f-9cf3-1e9465559942",
   "metadata": {},
   "outputs": [
    {
     "data": {
      "application/vnd.jupyter.widget-view+json": {
       "model_id": "0a528001460545c6bb91648333b72787",
       "version_major": 2,
       "version_minor": 0
      },
      "text/plain": [
       "RFBOutputContext()"
      ]
     },
     "metadata": {},
     "output_type": "display_data"
    },
    {
     "data": {
      "text/plain": [
       "JupyterOutputContext(children=(JupyterWgpuCanvas(css_width='600px'), IpywidgetToolBar(children=(Button(icon='expand-arrows-alt', layout=Layout(width='auto'), style=ButtonStyle(), tooltip='auto-scale scene'), Button(icon='align-center', layout=Layout(width='auto'), style=ButtonStyle(), tooltip='auto-center scene'), ToggleButton(value=True, icon='hand-pointer', layout=Layout(width='auto'), tooltip='panzoom controller'), ToggleButton(value=True, description='1:1', layout=Layout(width='auto'), style=ToggleButtonStyle(font_weight='bold'), tooltip='maintain aspect'), Button(icon='arrow-up', layout=Layout(width='auto'), style=ButtonStyle(), tooltip='y-axis direction'), Button(icon='draw-polygon', layout=Layout(width='auto'), style=ButtonStyle(), tooltip='add PolygonSelector'), ToggleButton(value=False, icon='video', layout=Layout(width='auto'), tooltip='record')))))"
      ]
     },
     "execution_count": 14,
     "metadata": {},
     "output_type": "execute_result"
    }
   ],
   "source": [
    "# Create a plot instance\n",
    "plot_l = fpl.Plot(size=(600, 300))\n",
    "\n",
    "# plot sine wave, use a single color\n",
    "sine_graphic = plot_l.add_line(data=sine, thickness=5, colors=\"magenta\", name=\"sine\")\n",
    "\n",
    "# you can also use colormaps for lines!\n",
    "cosine_graphic = plot_l.add_line(data=cosine, thickness=12, cmap=\"autumn\", name=\"cosine\")\n",
    "\n",
    "# or a list of colors for each datapoint\n",
    "colors = [\"r\"] * 25 + [\"purple\"] * 25 + [\"y\"] * 25 + [\"b\"] * 25\n",
    "sinc_graphic = plot_l.add_line(data=sinc, thickness=5, colors = colors, name=\"ricker\")\n",
    "\n",
    "plot_l.show(sidecar=True)"
   ]
  },
  {
   "cell_type": "markdown",
   "id": "9d2173a8-81f0-4257-8e33-cff3f12881b9",
   "metadata": {},
   "source": [
    "### Graphic features support slicing! :D"
   ]
  },
  {
   "cell_type": "code",
   "execution_count": 15,
   "id": "93ff5cff-a573-40c6-af59-c40e5eacfa81",
   "metadata": {},
   "outputs": [],
   "source": [
    "# indexing of colors\n",
    "cosine_graphic.colors[:40] = \"magenta\""
   ]
  },
  {
   "cell_type": "code",
   "execution_count": 16,
   "id": "2efcea16-bc12-4d24-9211-ea3bea0d89ef",
   "metadata": {},
   "outputs": [],
   "source": [
    "# more complex indexing, set the red value directly from an array\n",
    "cosine_graphic.colors[65:90, 0] = np.linspace(0, 1, 90-65)"
   ]
  },
  {
   "cell_type": "markdown",
   "id": "fa43555e-976b-42d0-a65f-05c022366591",
   "metadata": {},
   "source": [
    "### colormaps"
   ]
  },
  {
   "cell_type": "code",
   "execution_count": 17,
   "id": "a81bce05-b4a8-455b-95b2-6fa563087b51",
   "metadata": {},
   "outputs": [],
   "source": [
    "# set cmap \n",
    "plot_l[\"sine\"].cmap = \"jet\""
   ]
  },
  {
   "cell_type": "code",
   "execution_count": 18,
   "id": "69473735-3c24-4881-bbb2-13e760ea22ea",
   "metadata": {},
   "outputs": [],
   "source": [
    "# set cmap values equal sine wave y-values \n",
    "plot_l[\"sine\"].cmap.values = sine[:, 1]"
   ]
  },
  {
   "cell_type": "code",
   "execution_count": 19,
   "id": "368abd6e-528b-412e-8be5-1d73aebd4b97",
   "metadata": {},
   "outputs": [],
   "source": [
    "# set cmap values equal to cosine wave y-values\n",
    "plot_l[\"sine\"].cmap.values = cosine[:, 1]"
   ]
  },
  {
   "cell_type": "markdown",
   "id": "c024c606-d9e4-4ee3-b0dc-abe7c5706d80",
   "metadata": {},
   "source": [
    "**Qualitative data**"
   ]
  },
  {
   "cell_type": "code",
   "execution_count": 20,
   "id": "14c9be4e-bc8c-4fb7-adbf-09cf2c8384dd",
   "metadata": {},
   "outputs": [],
   "source": [
    "# qualitatively set the cmap values\n",
    "cmap_values = [0] * 25 + [1] * 5 + [2] * 50 + [3] * 20\n",
    "plot_l[\"sine\"].cmap.values = cmap_values"
   ]
  },
  {
   "cell_type": "markdown",
   "id": "9e860ddf-5c4c-46fd-a722-ba42cc965ac9",
   "metadata": {},
   "source": [
    "**Qualitative cmap**"
   ]
  },
  {
   "cell_type": "code",
   "execution_count": 21,
   "id": "f386cc93-355d-4961-afda-fb72ed3e137e",
   "metadata": {},
   "outputs": [],
   "source": [
    "# now change the cmap to new cmap with those same cmap values\n",
    "plot_l[\"sine\"].cmap = \"tab10\""
   ]
  },
  {
   "cell_type": "code",
   "execution_count": 22,
   "id": "7058dca4-9691-466d-9e67-d1235d735089",
   "metadata": {},
   "outputs": [],
   "source": [
    "plot_l.close()"
   ]
  },
  {
   "cell_type": "markdown",
   "id": "4aff8894-de97-4ecf-9008-cbdfdee66b92",
   "metadata": {},
   "source": [
    "## `ImageWidget` using zebrafish whole-brain data"
   ]
  },
  {
   "cell_type": "code",
   "execution_count": 3,
   "id": "1102bdef-3851-44b4-b67d-23929e250bdc",
   "metadata": {},
   "outputs": [],
   "source": [
    "import tifffile"
   ]
  },
  {
   "cell_type": "code",
   "execution_count": 4,
   "id": "586ad593-718b-41e6-ba3d-ffc4d3711c09",
   "metadata": {},
   "outputs": [],
   "source": [
    "# load in zebrafish data\n",
    "movie = tifffile.memmap('/home/clewis7/repos/fastplotlib-scipy2023/fpl-scipy2023-data/neural_data/zfish_vol.tiff')"
   ]
  },
  {
   "cell_type": "code",
   "execution_count": 5,
   "id": "475caccd-076a-4e7e-a96a-6cc8dc59e4d8",
   "metadata": {},
   "outputs": [
    {
     "data": {
      "text/plain": [
       "(1309, 30, 512, 512)"
      ]
     },
     "execution_count": 5,
     "metadata": {},
     "output_type": "execute_result"
    }
   ],
   "source": [
    "movie.shape"
   ]
  },
  {
   "cell_type": "markdown",
   "id": "6b0643dd-64c4-4a06-994f-258fbb4b154a",
   "metadata": {},
   "source": [
    "### View each plane in a separate subplot"
   ]
  },
  {
   "cell_type": "code",
   "execution_count": 9,
   "id": "b798e386-d583-4872-9a5b-e100b7a67f0b",
   "metadata": {},
   "outputs": [
    {
     "data": {
      "application/vnd.jupyter.widget-view+json": {
       "model_id": "c332089d9ee84c21a1733f2bb11daa5c",
       "version_major": 2,
       "version_minor": 0
      },
      "text/plain": [
       "RFBOutputContext()"
      ]
     },
     "metadata": {},
     "output_type": "display_data"
    },
    {
     "data": {
      "text/plain": [
       "JupyterOutputContext(children=(JupyterWgpuCanvas(css_height='500px', css_width='600px'), IpywidgetToolBar(children=(Button(icon='expand-arrows-alt', layout=Layout(width='auto'), style=ButtonStyle(), tooltip='auto-scale scene'), Button(icon='align-center', layout=Layout(width='auto'), style=ButtonStyle(), tooltip='auto-center scene'), ToggleButton(value=True, icon='hand-pointer', layout=Layout(width='auto'), tooltip='panzoom controller'), ToggleButton(value=True, description='1:1', layout=Layout(width='auto'), style=ToggleButtonStyle(font_weight='bold'), tooltip='maintain aspect'), Button(icon='arrow-down', layout=Layout(width='auto'), style=ButtonStyle(), tooltip='y-axis direction'), Button(icon='draw-polygon', layout=Layout(width='auto'), style=ButtonStyle(), tooltip='add PolygonSelector'), ToggleButton(value=False, icon='video', layout=Layout(width='auto'), tooltip='record'), Dropdown(description='Subplots:', layout=Layout(width='200px'), options=('(0, 0)', '(0, 1)', '(0, 2)', '(0, 3)', '(0, 4)', '(0, 5)', '(1, 0)', '(1, 1)', '(1, 2)', '(1, 3)', '(1, 4)', '(1, 5)', '(2, 0)', '(2, 1)', '(2, 2)', '(2, 3)', '(2, 4)', '(2, 5)', '(3, 0)', '(3, 1)', '(3, 2)', '(3, 3)', '(3, 4)', '(3, 5)', '(4, 0)', '(4, 1)', '(4, 2)', '(4, 3)', '(4, 4)', '(4, 5)'), value='(0, 0)'))), IpywidgetImageWidgetToolbar(children=(HBox(children=(Button(icon='adjust', layout=Layout(width='auto'), style=ButtonStyle(), tooltip='reset vmin/vmax'), Button(description='reset', icon='adjust', layout=Layout(width='auto'), style=ButtonStyle(), tooltip='reset vmin/vmax and reset histogram using current frame'), Play(value=0, description='play/pause', interval=10, max=1308), BoundedIntText(value=1, description='Step Size:', layout=Layout(width='150px'), max=1308, min=1, tooltip='set slider step'), BoundedIntText(value=100, description='Speed', layout=Layout(width='150px'), max=1000, min=1, step=50, tooltip='Playback speed, this is NOT framerate.\\nArbitrary units between 1 - 1,000'))), IntSlider(value=0, description='dimension: t', max=1308)))))"
      ]
     },
     "execution_count": 9,
     "metadata": {},
     "output_type": "execute_result"
    }
   ],
   "source": [
    "# get a list of txy arrays for each plane\n",
    "planes = [movie[:, i] for i in range(movie.shape[1])]\n",
    "\n",
    "iw = fpl.ImageWidget(\n",
    "    data=planes,\n",
    "    grid_plot_kwargs={\"size\": (600, 500), \"controllers\": \"sync\"},\n",
    "    cmap=\"gnuplot2\",\n",
    "    histogram_widget=False\n",
    ")\n",
    "\n",
    "iw.show(sidecar=True)"
   ]
  },
  {
   "cell_type": "code",
   "execution_count": 10,
   "id": "3e903b6b-6225-4485-8da0-8a46e6366e4f",
   "metadata": {},
   "outputs": [],
   "source": [
    "for subplot in iw.gridplot:\n",
    "    subplot[\"image_widget_managed\"].cmap.vmin = -0.12\n",
    "    subplot[\"image_widget_managed\"].cmap.vmax = 2.3"
   ]
  },
  {
   "cell_type": "markdown",
   "id": "97e1523a-1c05-448a-853b-02d4b9e65776",
   "metadata": {},
   "source": [
    "### Play with setting different window functions\n",
    "\n",
    "These can also be given as kwargs to ImageWidget during instantiation"
   ]
  },
  {
   "cell_type": "code",
   "execution_count": 8,
   "id": "df50ca13-7f40-4ee5-add8-6774f659b5eb",
   "metadata": {},
   "outputs": [],
   "source": [
    "# must be in the form of {dim: (func, window_size)}\n",
    "iw.window_funcs = {\"t\": (np.mean, 3)}"
   ]
  },
  {
   "cell_type": "code",
   "execution_count": 11,
   "id": "a9ab748f-5b31-4178-a4f1-e05a3ed8ce34",
   "metadata": {},
   "outputs": [],
   "source": [
    "iw.close()"
   ]
  },
  {
   "cell_type": "markdown",
   "id": "03aed83b-f62a-4439-9ef5-cf836b8d37b9",
   "metadata": {},
   "source": [
    "## For more introductory examples, please see our talk from SciPy 2023:\n",
    "\n",
    "- #### Repo: https://github.com/fastplotlib/fastplotlib-scipy2023\n",
    "\n",
    "- #### Talk: https://www.youtube.com/watch?v=Q-UJpAqljsU"
   ]
  },
  {
   "cell_type": "code",
   "execution_count": null,
   "id": "20207023-fd1c-4be8-9fee-0cac801495ff",
   "metadata": {},
   "outputs": [],
   "source": []
  }
 ],
 "metadata": {
  "kernelspec": {
   "display_name": "Python 3 (ipykernel)",
   "language": "python",
   "name": "python3"
  },
  "language_info": {
   "codemirror_mode": {
    "name": "ipython",
    "version": 3
   },
   "file_extension": ".py",
   "mimetype": "text/x-python",
   "name": "python",
   "nbconvert_exporter": "python",
   "pygments_lexer": "ipython3",
   "version": "3.11.3"
  }
 },
 "nbformat": 4,
 "nbformat_minor": 5
}
