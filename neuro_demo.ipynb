{
 "cells": [
  {
   "cell_type": "markdown",
   "id": "91821c73-e14f-4f57-b030-4b08894fa1ca",
   "metadata": {},
   "source": [
    "# Neuroscience using `fastplotlib` :D"
   ]
  },
  {
   "cell_type": "markdown",
   "id": "da3551a7-089a-4254-90d0-8511b5ae3376",
   "metadata": {},
   "source": [
    "This notebook will build up a complex visualization using `fastplotlib`, in conjunction with other Python neuroscience packages, to exemplify how `fastplotlib` can be a powerful tool in analysis and visualization of neural data!"
   ]
  },
  {
   "cell_type": "markdown",
   "id": "5ad8d6a1-ef72-42d8-92e2-8d4e78877b52",
   "metadata": {},
   "source": [
    "Packages involved: \n",
    "- `mesmerize-core`\n",
    "- `pynapple`\n",
    "- `animal-soup`\n",
    "- `fastplotlib`\n",
    "- `CaImAn`"
   ]
  },
  {
   "cell_type": "code",
   "execution_count": 1,
   "id": "3f4c4660-8430-4162-af75-4a1672e2d63f",
   "metadata": {},
   "outputs": [
    {
     "name": "stderr",
     "output_type": "stream",
     "text": [
      "2023-10-31 16:33:02.518504: E tensorflow/compiler/xla/stream_executor/cuda/cuda_dnn.cc:9342] Unable to register cuDNN factory: Attempting to register factory for plugin cuDNN when one has already been registered\n",
      "2023-10-31 16:33:02.518532: E tensorflow/compiler/xla/stream_executor/cuda/cuda_fft.cc:609] Unable to register cuFFT factory: Attempting to register factory for plugin cuFFT when one has already been registered\n",
      "2023-10-31 16:33:02.518552: E tensorflow/compiler/xla/stream_executor/cuda/cuda_blas.cc:1518] Unable to register cuBLAS factory: Attempting to register factory for plugin cuBLAS when one has already been registered\n",
      "2023-10-31 16:33:02.522947: I tensorflow/core/platform/cpu_feature_guard.cc:182] This TensorFlow binary is optimized to use available CPU instructions in performance-critical operations.\n",
      "To enable the following instructions: AVX2 FMA, in other operations, rebuild TensorFlow with the appropriate compiler flags.\n",
      "2023-10-31 16:33:03.054969: W tensorflow/compiler/tf2tensorrt/utils/py_utils.cc:38] TF-TRT Warning: Could not find TensorRT\n"
     ]
    }
   ],
   "source": [
    "import fastplotlib as fpl\n",
    "from mesmerize_core import *\n",
    "import pynapple as nap\n",
    "import numpy as np"
   ]
  },
  {
   "cell_type": "markdown",
   "id": "ec01280b-0710-4d4d-a696-b837711e3826",
   "metadata": {},
   "source": [
    "### Opening behavior videos using **Lazy Loading** and visualizing them using `fastplotlib`."
   ]
  },
  {
   "cell_type": "markdown",
   "id": "020a6330-6c16-4bcf-ba7e-02e6c1721abb",
   "metadata": {},
   "source": [
    "#### **Lazy Loading**: strategy to conserve RAM by dynamically loading in frames for visualization only as needed \n",
    "\n",
    "Behavioral and neural data collected during experiments can be up to **terabytes** in size, making it impossible to load all of the data into RAM at once for visualization and analysis. ***Lazy Loading*** allows us to bypass our memory space constraint without overburdening our resources!"
   ]
  },
  {
   "cell_type": "code",
   "execution_count": null,
   "id": "51446cb4-d0c3-4fbc-8e87-df602d9a7783",
   "metadata": {},
   "outputs": [],
   "source": []
  },
  {
   "cell_type": "markdown",
   "id": "136b49d7-13d7-4e03-8e93-5c506f5a827e",
   "metadata": {},
   "source": [
    "### Visualizing some results of running `CaImAn` via `mesmerize-core` on calcium imaging data."
   ]
  },
  {
   "cell_type": "markdown",
   "id": "6a2c44f6-cf75-4a43-ab38-d8d38894cd3e",
   "metadata": {},
   "source": [
    "### Creating an interactive visualization to perform calcium imaging analysis."
   ]
  },
  {
   "cell_type": "markdown",
   "id": "358e0beb-ecf0-4f2d-bae1-2b789ebb6604",
   "metadata": {},
   "source": [
    "### Syncing behavior and calcium data using `pynapple`."
   ]
  },
  {
   "cell_type": "code",
   "execution_count": null,
   "id": "59d28c3f-2366-4973-9e05-81c6b8b0ec1a",
   "metadata": {},
   "outputs": [],
   "source": []
  },
  {
   "cell_type": "code",
   "execution_count": null,
   "id": "a717c554-4fa6-40cf-8f02-b8b0822c3bc5",
   "metadata": {},
   "outputs": [],
   "source": []
  },
  {
   "cell_type": "code",
   "execution_count": null,
   "id": "291f3f4a-a278-450d-8ddf-27ca146527c8",
   "metadata": {},
   "outputs": [],
   "source": []
  },
  {
   "cell_type": "code",
   "execution_count": null,
   "id": "f52e2851-700c-4784-a167-91d61f491412",
   "metadata": {},
   "outputs": [],
   "source": []
  }
 ],
 "metadata": {
  "kernelspec": {
   "display_name": "Python 3 (ipykernel)",
   "language": "python",
   "name": "python3"
  },
  "language_info": {
   "codemirror_mode": {
    "name": "ipython",
    "version": 3
   },
   "file_extension": ".py",
   "mimetype": "text/x-python",
   "name": "python",
   "nbconvert_exporter": "python",
   "pygments_lexer": "ipython3",
   "version": "3.11.3"
  }
 },
 "nbformat": 4,
 "nbformat_minor": 5
}
