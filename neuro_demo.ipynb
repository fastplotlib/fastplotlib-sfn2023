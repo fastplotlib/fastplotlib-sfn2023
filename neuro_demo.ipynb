{
 "cells": [
  {
   "cell_type": "markdown",
   "id": "91821c73-e14f-4f57-b030-4b08894fa1ca",
   "metadata": {},
   "source": [
    "# Neuroscience using `fastplotlib` :D"
   ]
  },
  {
   "cell_type": "markdown",
   "id": "da3551a7-089a-4254-90d0-8511b5ae3376",
   "metadata": {},
   "source": [
    "This notebook will build up a complex visualization using `fastplotlib`, in conjunction with other Python neuroscience packages, to exemplify how `fastplotlib` can be a powerful tool in analysis and visualization of neural data!"
   ]
  },
  {
   "cell_type": "code",
   "execution_count": 3,
   "id": "de8062db-f3fa-4fd5-b788-a6aafdc9dbaf",
   "metadata": {
    "tags": []
   },
   "outputs": [],
   "source": [
    "import warnings\n",
    "warnings.simplefilter('ignore')"
   ]
  },
  {
   "cell_type": "code",
   "execution_count": 4,
   "id": "3f4c4660-8430-4162-af75-4a1672e2d63f",
   "metadata": {},
   "outputs": [],
   "source": [
    "import fastplotlib as fpl\n",
    "import pynapple as nap\n",
    "import numpy as np\n",
    "from pathlib import Path\n",
    "from ipywidgets.widgets import VBox, HBox, IntSlider\n",
    "from mesmerize_core import *\n",
    "from sidecar import Sidecar"
   ]
  },
  {
   "cell_type": "markdown",
   "id": "ec01280b-0710-4d4d-a696-b837711e3826",
   "metadata": {},
   "source": [
    "### Opening behavior videos using **Lazy Loading** and visualizing them using `fastplotlib`."
   ]
  },
  {
   "cell_type": "markdown",
   "id": "020a6330-6c16-4bcf-ba7e-02e6c1721abb",
   "metadata": {},
   "source": [
    "#### **Lazy Loading**: strategy to conserve RAM by dynamically loading in frames for visualization only as needed \n",
    "\n",
    "Behavioral and neural data collected during experiments can be up to **terabytes** in size making it impossible to load all of the data into RAM at once for visualization and analysis. ***Lazy Loading*** allows us to bypass this memory space constraint without overburdening our resources!"
   ]
  },
  {
   "cell_type": "code",
   "execution_count": 5,
   "id": "51446cb4-d0c3-4fbc-8e87-df602d9a7783",
   "metadata": {},
   "outputs": [],
   "source": [
    "# helper class from mesmerize_core for lazy loading\n",
    "from mesmerize_core.arrays import LazyVideo"
   ]
  },
  {
   "cell_type": "code",
   "execution_count": 6,
   "id": "bf414f11-2fc9-43c3-9856-f5818b051b1d",
   "metadata": {},
   "outputs": [],
   "source": [
    "data = Path('/data/kushal/cortex-learning/2p-trial-exps/eaf1/behavior/session4/')"
   ]
  },
  {
   "cell_type": "markdown",
   "id": "368aa738-f37d-4c6f-a102-ceb0c410295b",
   "metadata": {},
   "source": [
    "#### Get video paths for a single trial"
   ]
  },
  {
   "cell_type": "code",
   "execution_count": 7,
   "id": "17d51e6f-a63c-4adf-85c1-41c2e24a9b00",
   "metadata": {},
   "outputs": [
    {
     "data": {
      "text/plain": [
       "[PosixPath('/data/kushal/cortex-learning/2p-trial-exps/eaf1/behavior/session4/eaf1-s4_front_v018.avi'),\n",
       " PosixPath('/data/kushal/cortex-learning/2p-trial-exps/eaf1/behavior/session4/eaf1-s4_side_v018.avi')]"
      ]
     },
     "execution_count": 7,
     "metadata": {},
     "output_type": "execute_result"
    }
   ],
   "source": [
    "trial_one = sorted(list(data.glob(\"*018.avi\")))\n",
    "trial_one"
   ]
  },
  {
   "cell_type": "markdown",
   "id": "2bc08ee5-dd30-47dd-b31c-cd72d0d24c72",
   "metadata": {},
   "source": [
    "#### Make an `ImageWidget` to view the trial"
   ]
  },
  {
   "cell_type": "code",
   "execution_count": 8,
   "id": "658cdfd4-1a40-410a-b270-968c618bf99f",
   "metadata": {
    "tags": []
   },
   "outputs": [],
   "source": [
    "warnings.simplefilter('ignore')"
   ]
  },
  {
   "cell_type": "code",
   "execution_count": 9,
   "id": "0ced10c9-d081-421e-bdd0-1129159f5ef3",
   "metadata": {},
   "outputs": [
    {
     "data": {
      "application/vnd.jupyter.widget-view+json": {
       "model_id": "ee0171e00d854a2d93a492f5c34f3a2c",
       "version_major": 2,
       "version_minor": 0
      },
      "text/plain": [
       "RFBOutputContext()"
      ]
     },
     "metadata": {},
     "output_type": "display_data"
    },
    {
     "name": "stderr",
     "output_type": "stream",
     "text": [
      "No config found!\n",
      "No config found!\n"
     ]
    },
    {
     "data": {
      "application/vnd.jupyter.widget-view+json": {
       "model_id": "20470a8b960e4abfac38255b91bddf55",
       "version_major": 2,
       "version_minor": 0
      },
      "text/plain": [
       "JupyterOutputContext(children=(JupyterWgpuCanvas(), IpywidgetToolBar(children=(Button(icon='expand-arrows-alt'…"
      ]
     },
     "execution_count": 9,
     "metadata": {},
     "output_type": "execute_result"
    }
   ],
   "source": [
    "iw = fpl.ImageWidget(\n",
    "    data=[LazyVideo(v) for v in trial_one], \n",
    "    names=[\"front\", \"side\"],\n",
    "    histogram_widget=False)\n",
    "\n",
    "iw.show()"
   ]
  },
  {
   "cell_type": "markdown",
   "id": "136b49d7-13d7-4e03-8e93-5c506f5a827e",
   "metadata": {},
   "source": [
    "### Visualizing results of running `CaImAn` via `mesmerize-core` on calcium imaging data."
   ]
  },
  {
   "cell_type": "code",
   "execution_count": 10,
   "id": "4003cd9a-85c9-4dc1-ab4c-ffc6262e0e7c",
   "metadata": {},
   "outputs": [
    {
     "data": {
      "text/plain": [
       "PosixPath('/data/kushal/cortex-learning/2p-trial-exps')"
      ]
     },
     "execution_count": 10,
     "metadata": {},
     "output_type": "execute_result"
    }
   ],
   "source": [
    "set_parent_raw_data_path('/data/kushal/cortex-learning/2p-trial-exps/')"
   ]
  },
  {
   "cell_type": "code",
   "execution_count": 11,
   "id": "7a6863d5-41cc-44ed-b05a-0b622b616b6e",
   "metadata": {},
   "outputs": [
    {
     "data": {
      "text/html": [
       "<div>\n",
       "<style scoped>\n",
       "    .dataframe tbody tr th:only-of-type {\n",
       "        vertical-align: middle;\n",
       "    }\n",
       "\n",
       "    .dataframe tbody tr th {\n",
       "        vertical-align: top;\n",
       "    }\n",
       "\n",
       "    .dataframe thead th {\n",
       "        text-align: right;\n",
       "    }\n",
       "</style>\n",
       "<table border=\"1\" class=\"dataframe\">\n",
       "  <thead>\n",
       "    <tr style=\"text-align: right;\">\n",
       "      <th></th>\n",
       "      <th>algo</th>\n",
       "      <th>item_name</th>\n",
       "      <th>input_movie_path</th>\n",
       "      <th>params</th>\n",
       "      <th>outputs</th>\n",
       "      <th>comments</th>\n",
       "      <th>uuid</th>\n",
       "      <th>added_time</th>\n",
       "      <th>ran_time</th>\n",
       "      <th>algo_duration</th>\n",
       "    </tr>\n",
       "  </thead>\n",
       "  <tbody>\n",
       "    <tr>\n",
       "      <th>0</th>\n",
       "      <td>mcorr</td>\n",
       "      <td>eaf1_session1</td>\n",
       "      <td>eaf1/calcium/session1/concat_session1.tif</td>\n",
       "      <td>{'main': {'max_shifts': (24, 24), 'strides': (...</td>\n",
       "      <td>{'mean-projection-path': 90cc9605-3fc0-4c4c-8c...</td>\n",
       "      <td>None</td>\n",
       "      <td>90cc9605-3fc0-4c4c-8c61-5c6db19ac1f8</td>\n",
       "      <td>None</td>\n",
       "      <td>None</td>\n",
       "      <td>None</td>\n",
       "    </tr>\n",
       "    <tr>\n",
       "      <th>1</th>\n",
       "      <td>mcorr</td>\n",
       "      <td>eaf1_session2</td>\n",
       "      <td>eaf1/calcium/session2/concat_session2.tif</td>\n",
       "      <td>{'main': {'max_shifts': (24, 24), 'strides': (...</td>\n",
       "      <td>{'mean-projection-path': 2ae18c23-08de-4987-b5...</td>\n",
       "      <td>None</td>\n",
       "      <td>2ae18c23-08de-4987-b5e4-f805c196fc4d</td>\n",
       "      <td>None</td>\n",
       "      <td>None</td>\n",
       "      <td>None</td>\n",
       "    </tr>\n",
       "    <tr>\n",
       "      <th>2</th>\n",
       "      <td>mcorr</td>\n",
       "      <td>eaf1_session3</td>\n",
       "      <td>eaf1/calcium/session3/concat_session3.tif</td>\n",
       "      <td>{'main': {'max_shifts': (24, 24), 'strides': (...</td>\n",
       "      <td>{'mean-projection-path': 3efacee7-1453-40ef-87...</td>\n",
       "      <td>None</td>\n",
       "      <td>3efacee7-1453-40ef-87ed-acf6369fee85</td>\n",
       "      <td>None</td>\n",
       "      <td>None</td>\n",
       "      <td>None</td>\n",
       "    </tr>\n",
       "    <tr>\n",
       "      <th>3</th>\n",
       "      <td>mcorr</td>\n",
       "      <td>eaf1_session4</td>\n",
       "      <td>eaf1/calcium/session4/concat_session4.tif</td>\n",
       "      <td>{'main': {'max_shifts': (24, 24), 'strides': (...</td>\n",
       "      <td>{'mean-projection-path': f9325d96-3ef7-4295-88...</td>\n",
       "      <td>None</td>\n",
       "      <td>f9325d96-3ef7-4295-8864-6858e7d54306</td>\n",
       "      <td>None</td>\n",
       "      <td>None</td>\n",
       "      <td>None</td>\n",
       "    </tr>\n",
       "    <tr>\n",
       "      <th>4</th>\n",
       "      <td>mcorr</td>\n",
       "      <td>eaf1_session5</td>\n",
       "      <td>eaf1/calcium/session5/concat_session5.tif</td>\n",
       "      <td>{'main': {'max_shifts': (12, 12), 'strides': (...</td>\n",
       "      <td>{'mean-projection-path': 5e622b7f-0985-413e-b9...</td>\n",
       "      <td>None</td>\n",
       "      <td>5e622b7f-0985-413e-b9db-51970e8a655e</td>\n",
       "      <td>None</td>\n",
       "      <td>None</td>\n",
       "      <td>None</td>\n",
       "    </tr>\n",
       "    <tr>\n",
       "      <th>5</th>\n",
       "      <td>mcorr</td>\n",
       "      <td>eaf1_session6</td>\n",
       "      <td>eaf1/calcium/session6/concat_session6.tif</td>\n",
       "      <td>{'main': {'max_shifts': (12, 12), 'strides': (...</td>\n",
       "      <td>{'mean-projection-path': 0469b0e4-75e8-4af0-97...</td>\n",
       "      <td>None</td>\n",
       "      <td>0469b0e4-75e8-4af0-97cf-bde0550ce109</td>\n",
       "      <td>None</td>\n",
       "      <td>None</td>\n",
       "      <td>None</td>\n",
       "    </tr>\n",
       "    <tr>\n",
       "      <th>6</th>\n",
       "      <td>cnmf</td>\n",
       "      <td>eaf1_session4</td>\n",
       "      <td>f9325d96-3ef7-4295-8864-6858e7d54306/f9325d96-...</td>\n",
       "      <td>{'main': {'fr': 15, 'p': 1, 'nb': 2, 'merge_th...</td>\n",
       "      <td>{'mean-projection-path': 6f6255f2-b8fc-49ba-bc...</td>\n",
       "      <td>None</td>\n",
       "      <td>6f6255f2-b8fc-49ba-bccd-0e10cea98819</td>\n",
       "      <td>None</td>\n",
       "      <td>None</td>\n",
       "      <td>None</td>\n",
       "    </tr>\n",
       "    <tr>\n",
       "      <th>7</th>\n",
       "      <td>cnmf</td>\n",
       "      <td>eaf1_session5</td>\n",
       "      <td>5e622b7f-0985-413e-b9db-51970e8a655e/5e622b7f-...</td>\n",
       "      <td>{'main': {'fr': 15, 'p': 1, 'nb': 2, 'merge_th...</td>\n",
       "      <td>{'mean-projection-path': 9e31ce67-883f-43fe-b7...</td>\n",
       "      <td>None</td>\n",
       "      <td>9e31ce67-883f-43fe-b78b-2fc95bd452b3</td>\n",
       "      <td>None</td>\n",
       "      <td>None</td>\n",
       "      <td>None</td>\n",
       "    </tr>\n",
       "    <tr>\n",
       "      <th>8</th>\n",
       "      <td>cnmf</td>\n",
       "      <td>eaf1_session6</td>\n",
       "      <td>0469b0e4-75e8-4af0-97cf-bde0550ce109/0469b0e4-...</td>\n",
       "      <td>{'main': {'fr': 15, 'p': 1, 'nb': 2, 'merge_th...</td>\n",
       "      <td>{'mean-projection-path': 4cae2d6e-1ea5-47e0-8a...</td>\n",
       "      <td>None</td>\n",
       "      <td>4cae2d6e-1ea5-47e0-8abf-e5d282fb64c1</td>\n",
       "      <td>None</td>\n",
       "      <td>None</td>\n",
       "      <td>None</td>\n",
       "    </tr>\n",
       "    <tr>\n",
       "      <th>9</th>\n",
       "      <td>cnmf</td>\n",
       "      <td>eaf1_session5</td>\n",
       "      <td>5e622b7f-0985-413e-b9db-51970e8a655e/5e622b7f-...</td>\n",
       "      <td>{'main': {'fr': 15, 'p': 1, 'nb': 2, 'merge_th...</td>\n",
       "      <td>{'mean-projection-path': a1f58223-978b-42bc-a1...</td>\n",
       "      <td>None</td>\n",
       "      <td>a1f58223-978b-42bc-a173-d31c0327e469</td>\n",
       "      <td>None</td>\n",
       "      <td>None</td>\n",
       "      <td>None</td>\n",
       "    </tr>\n",
       "    <tr>\n",
       "      <th>10</th>\n",
       "      <td>cnmf</td>\n",
       "      <td>eaf1_session6</td>\n",
       "      <td>0469b0e4-75e8-4af0-97cf-bde0550ce109/0469b0e4-...</td>\n",
       "      <td>{'main': {'fr': 15, 'p': 1, 'nb': 2, 'merge_th...</td>\n",
       "      <td>{'mean-projection-path': 94e77e69-6dd7-4693-9e...</td>\n",
       "      <td>None</td>\n",
       "      <td>94e77e69-6dd7-4693-9e4f-b8477d0b0e5b</td>\n",
       "      <td>None</td>\n",
       "      <td>None</td>\n",
       "      <td>None</td>\n",
       "    </tr>\n",
       "    <tr>\n",
       "      <th>11</th>\n",
       "      <td>cnmf</td>\n",
       "      <td>eaf1_session4</td>\n",
       "      <td>f9325d96-3ef7-4295-8864-6858e7d54306/f9325d96-...</td>\n",
       "      <td>{'main': {'fr': 15, 'p': 1, 'nb': 2, 'merge_th...</td>\n",
       "      <td>{'mean-projection-path': c6d67980-306e-4f77-8b...</td>\n",
       "      <td>None</td>\n",
       "      <td>c6d67980-306e-4f77-8bf8-30d8feededdd</td>\n",
       "      <td>2023-01-18T02:22:33</td>\n",
       "      <td>2023-01-18T03:00:57</td>\n",
       "      <td>2179.58 sec</td>\n",
       "    </tr>\n",
       "    <tr>\n",
       "      <th>12</th>\n",
       "      <td>cnmf</td>\n",
       "      <td>eaf1_session4</td>\n",
       "      <td>f9325d96-3ef7-4295-8864-6858e7d54306/f9325d96-...</td>\n",
       "      <td>{'main': {'fr': 15, 'p': 1, 'nb': 2, 'merge_th...</td>\n",
       "      <td>{'mean-projection-path': b76ddf9c-723f-4921-9a...</td>\n",
       "      <td>None</td>\n",
       "      <td>b76ddf9c-723f-4921-9af8-2105b53ea3e6</td>\n",
       "      <td>2023-01-18T02:22:50</td>\n",
       "      <td>2023-01-18T03:38:09</td>\n",
       "      <td>2207.46 sec</td>\n",
       "    </tr>\n",
       "    <tr>\n",
       "      <th>13</th>\n",
       "      <td>cnmf</td>\n",
       "      <td>eaf1_session4</td>\n",
       "      <td>f9325d96-3ef7-4295-8864-6858e7d54306/f9325d96-...</td>\n",
       "      <td>{'main': {'fr': 15, 'p': 1, 'nb': 2, 'merge_th...</td>\n",
       "      <td>{'mean-projection-path': 32b621b4-2f26-473d-a0...</td>\n",
       "      <td>None</td>\n",
       "      <td>32b621b4-2f26-473d-a0be-d156c01d9040</td>\n",
       "      <td>2023-01-19T13:14:47</td>\n",
       "      <td>2023-01-19T13:25:13</td>\n",
       "      <td>569.13 sec</td>\n",
       "    </tr>\n",
       "    <tr>\n",
       "      <th>14</th>\n",
       "      <td>cnmf</td>\n",
       "      <td>eaf1_session4</td>\n",
       "      <td>f9325d96-3ef7-4295-8864-6858e7d54306/f9325d96-...</td>\n",
       "      <td>{'main': {'fr': 15, 'p': 1, 'nb': 2, 'merge_th...</td>\n",
       "      <td>{'mean-projection-path': da62a66a-9960-4d51-8d...</td>\n",
       "      <td>None</td>\n",
       "      <td>da62a66a-9960-4d51-8dac-4f7cb581591b</td>\n",
       "      <td>2023-01-19T13:14:58</td>\n",
       "      <td>2023-01-19T13:35:21</td>\n",
       "      <td>604.17 sec</td>\n",
       "    </tr>\n",
       "    <tr>\n",
       "      <th>15</th>\n",
       "      <td>cnmf</td>\n",
       "      <td>eaf1_session4</td>\n",
       "      <td>f9325d96-3ef7-4295-8864-6858e7d54306/f9325d96-...</td>\n",
       "      <td>{'main': {'fr': 15, 'p': 1, 'nb': 2, 'merge_th...</td>\n",
       "      <td>{'mean-projection-path': 61177f43-f645-4847-ba...</td>\n",
       "      <td>None</td>\n",
       "      <td>61177f43-f645-4847-ba93-c4a7465522c9</td>\n",
       "      <td>2023-01-19T13:15:08</td>\n",
       "      <td>2023-01-19T13:46:16</td>\n",
       "      <td>650.58 sec</td>\n",
       "    </tr>\n",
       "    <tr>\n",
       "      <th>16</th>\n",
       "      <td>cnmf</td>\n",
       "      <td>eaf1_session4</td>\n",
       "      <td>f9325d96-3ef7-4295-8864-6858e7d54306/f9325d96-...</td>\n",
       "      <td>{'main': {'fr': 15, 'p': 1, 'nb': 2, 'merge_th...</td>\n",
       "      <td>{'mean-projection-path': 693bb3a8-18f2-46ad-ae...</td>\n",
       "      <td>None</td>\n",
       "      <td>693bb3a8-18f2-46ad-ae4a-271f839ca136</td>\n",
       "      <td>2023-01-23T04:47:14</td>\n",
       "      <td>2023-01-23T05:44:05</td>\n",
       "      <td>693.37 sec</td>\n",
       "    </tr>\n",
       "    <tr>\n",
       "      <th>17</th>\n",
       "      <td>cnmf</td>\n",
       "      <td>eaf1_session4</td>\n",
       "      <td>f9325d96-3ef7-4295-8864-6858e7d54306/f9325d96-...</td>\n",
       "      <td>{'main': {'fr': 15, 'p': 1, 'nb': 2, 'merge_th...</td>\n",
       "      <td>{'mean-projection-path': 0e348f6d-cc12-4034-aa...</td>\n",
       "      <td>None</td>\n",
       "      <td>0e348f6d-cc12-4034-aa75-2df01d87b5e1</td>\n",
       "      <td>2023-01-23T05:30:25</td>\n",
       "      <td>2023-01-23T05:56:19</td>\n",
       "      <td>729.19 sec</td>\n",
       "    </tr>\n",
       "    <tr>\n",
       "      <th>18</th>\n",
       "      <td>cnmf</td>\n",
       "      <td>eaf1_session4</td>\n",
       "      <td>f9325d96-3ef7-4295-8864-6858e7d54306/f9325d96-...</td>\n",
       "      <td>{'main': {'fr': 15, 'p': 1, 'nb': 2, 'merge_th...</td>\n",
       "      <td>{'mean-projection-path': c99ccaa0-4098-44d7-ab...</td>\n",
       "      <td>None</td>\n",
       "      <td>c99ccaa0-4098-44d7-abc6-0116b555491e</td>\n",
       "      <td>2023-01-23T05:30:37</td>\n",
       "      <td>2023-01-23T06:09:14</td>\n",
       "      <td>769.84 sec</td>\n",
       "    </tr>\n",
       "    <tr>\n",
       "      <th>19</th>\n",
       "      <td>cnmf</td>\n",
       "      <td>eaf1_session4</td>\n",
       "      <td>f9325d96-3ef7-4295-8864-6858e7d54306/f9325d96-...</td>\n",
       "      <td>{'main': {'fr': 15, 'p': 1, 'nb': 2, 'merge_th...</td>\n",
       "      <td>{'mean-projection-path': 1b0238c8-a4fb-4b66-88...</td>\n",
       "      <td>None</td>\n",
       "      <td>1b0238c8-a4fb-4b66-882d-d9570631487f</td>\n",
       "      <td>2023-01-23T05:31:02</td>\n",
       "      <td>2023-01-23T06:25:02</td>\n",
       "      <td>942.01 sec</td>\n",
       "    </tr>\n",
       "    <tr>\n",
       "      <th>20</th>\n",
       "      <td>cnmf</td>\n",
       "      <td>eaf1_session4</td>\n",
       "      <td>f9325d96-3ef7-4295-8864-6858e7d54306/f9325d96-...</td>\n",
       "      <td>{'main': {'fr': 15, 'p': 1, 'nb': 2, 'merge_th...</td>\n",
       "      <td>{'mean-projection-path': 4e61686c-4ff7-49b9-85...</td>\n",
       "      <td>None</td>\n",
       "      <td>4e61686c-4ff7-49b9-85c3-752a0db72f6e</td>\n",
       "      <td>2023-01-23T15:47:03</td>\n",
       "      <td>2023-01-23T15:59:02</td>\n",
       "      <td>646.13 sec</td>\n",
       "    </tr>\n",
       "    <tr>\n",
       "      <th>21</th>\n",
       "      <td>cnmf</td>\n",
       "      <td>eaf1_session4</td>\n",
       "      <td>f9325d96-3ef7-4295-8864-6858e7d54306/f9325d96-...</td>\n",
       "      <td>{'main': {'fr': 15, 'p': 1, 'nb': 2, 'merge_th...</td>\n",
       "      <td>{'mean-projection-path': eec61715-cdda-40b8-8a...</td>\n",
       "      <td>None</td>\n",
       "      <td>eec61715-cdda-40b8-8a2c-2b4e355371c1</td>\n",
       "      <td>2023-01-23T15:47:14</td>\n",
       "      <td>2023-01-23T16:19:51</td>\n",
       "      <td>611.56 sec</td>\n",
       "    </tr>\n",
       "    <tr>\n",
       "      <th>22</th>\n",
       "      <td>cnmf</td>\n",
       "      <td>eaf1_session4</td>\n",
       "      <td>eaf1/calcium/session4/eaf4-s4-filtered-bilater...</td>\n",
       "      <td>{'main': {'fr': 15, 'p': 1, 'nb': 2, 'merge_th...</td>\n",
       "      <td>{'success': False, 'traceback': 'Traceback (mo...</td>\n",
       "      <td>None</td>\n",
       "      <td>cc11149a-07d6-44ae-ba1a-f572744878c6</td>\n",
       "      <td>2023-01-23T18:10:34</td>\n",
       "      <td>2023-01-23T18:11:01</td>\n",
       "      <td>9.32 sec</td>\n",
       "    </tr>\n",
       "    <tr>\n",
       "      <th>23</th>\n",
       "      <td>cnmf</td>\n",
       "      <td>eaf1_session4</td>\n",
       "      <td>eaf1/calcium/session4/filtered-concat_session4...</td>\n",
       "      <td>{'main': {'fr': 15, 'p': 1, 'nb': 2, 'merge_th...</td>\n",
       "      <td>{'mean-projection-path': e1421f9b-d01a-4823-82...</td>\n",
       "      <td>None</td>\n",
       "      <td>e1421f9b-d01a-4823-8237-81a5ad7a952f</td>\n",
       "      <td>2023-01-23T19:08:59</td>\n",
       "      <td>2023-01-23T19:19:32</td>\n",
       "      <td>618.75 sec</td>\n",
       "    </tr>\n",
       "    <tr>\n",
       "      <th>24</th>\n",
       "      <td>cnmf</td>\n",
       "      <td>eaf1_session4</td>\n",
       "      <td>eaf1/calcium/session4/filtered-concat_session4...</td>\n",
       "      <td>{'main': {'fr': 15, 'p': 1, 'nb': 2, 'merge_th...</td>\n",
       "      <td>{'mean-projection-path': 102e7ec8-bcdd-49ad-9a...</td>\n",
       "      <td>None</td>\n",
       "      <td>102e7ec8-bcdd-49ad-9a96-b4ef4041e70f</td>\n",
       "      <td>2023-01-23T20:17:17</td>\n",
       "      <td>2023-01-23T20:28:23</td>\n",
       "      <td>658.97 sec</td>\n",
       "    </tr>\n",
       "    <tr>\n",
       "      <th>25</th>\n",
       "      <td>cnmf</td>\n",
       "      <td>eaf1_session4</td>\n",
       "      <td>eaf1/calcium/session4/filtered-concat_session4...</td>\n",
       "      <td>{'main': {'fr': 15, 'p': 1, 'nb': 2, 'merge_th...</td>\n",
       "      <td>{'mean-projection-path': 15118c77-e199-4baf-a3...</td>\n",
       "      <td>None</td>\n",
       "      <td>15118c77-e199-4baf-a35f-eb6b2c9c4a69</td>\n",
       "      <td>2023-01-23T20:36:59</td>\n",
       "      <td>2023-01-23T20:46:54</td>\n",
       "      <td>561.09 sec</td>\n",
       "    </tr>\n",
       "    <tr>\n",
       "      <th>26</th>\n",
       "      <td>cnmf</td>\n",
       "      <td>eaf1_session4</td>\n",
       "      <td>eaf1/calcium/session4/filtered-concat_session4...</td>\n",
       "      <td>{'main': {'fr': 15, 'p': 1, 'nb': 2, 'merge_th...</td>\n",
       "      <td>{'mean-projection-path': 9b0f79f7-cbad-40d2-a1...</td>\n",
       "      <td>None</td>\n",
       "      <td>9b0f79f7-cbad-40d2-a1ef-f24fe6038cbb</td>\n",
       "      <td>2023-01-23T20:37:04</td>\n",
       "      <td>2023-01-23T21:02:48</td>\n",
       "      <td>542.55 sec</td>\n",
       "    </tr>\n",
       "  </tbody>\n",
       "</table>\n",
       "</div>"
      ],
      "text/plain": [
       "     algo      item_name                                   input_movie_path  \\\n",
       "0   mcorr  eaf1_session1          eaf1/calcium/session1/concat_session1.tif   \n",
       "1   mcorr  eaf1_session2          eaf1/calcium/session2/concat_session2.tif   \n",
       "2   mcorr  eaf1_session3          eaf1/calcium/session3/concat_session3.tif   \n",
       "3   mcorr  eaf1_session4          eaf1/calcium/session4/concat_session4.tif   \n",
       "4   mcorr  eaf1_session5          eaf1/calcium/session5/concat_session5.tif   \n",
       "5   mcorr  eaf1_session6          eaf1/calcium/session6/concat_session6.tif   \n",
       "6    cnmf  eaf1_session4  f9325d96-3ef7-4295-8864-6858e7d54306/f9325d96-...   \n",
       "7    cnmf  eaf1_session5  5e622b7f-0985-413e-b9db-51970e8a655e/5e622b7f-...   \n",
       "8    cnmf  eaf1_session6  0469b0e4-75e8-4af0-97cf-bde0550ce109/0469b0e4-...   \n",
       "9    cnmf  eaf1_session5  5e622b7f-0985-413e-b9db-51970e8a655e/5e622b7f-...   \n",
       "10   cnmf  eaf1_session6  0469b0e4-75e8-4af0-97cf-bde0550ce109/0469b0e4-...   \n",
       "11   cnmf  eaf1_session4  f9325d96-3ef7-4295-8864-6858e7d54306/f9325d96-...   \n",
       "12   cnmf  eaf1_session4  f9325d96-3ef7-4295-8864-6858e7d54306/f9325d96-...   \n",
       "13   cnmf  eaf1_session4  f9325d96-3ef7-4295-8864-6858e7d54306/f9325d96-...   \n",
       "14   cnmf  eaf1_session4  f9325d96-3ef7-4295-8864-6858e7d54306/f9325d96-...   \n",
       "15   cnmf  eaf1_session4  f9325d96-3ef7-4295-8864-6858e7d54306/f9325d96-...   \n",
       "16   cnmf  eaf1_session4  f9325d96-3ef7-4295-8864-6858e7d54306/f9325d96-...   \n",
       "17   cnmf  eaf1_session4  f9325d96-3ef7-4295-8864-6858e7d54306/f9325d96-...   \n",
       "18   cnmf  eaf1_session4  f9325d96-3ef7-4295-8864-6858e7d54306/f9325d96-...   \n",
       "19   cnmf  eaf1_session4  f9325d96-3ef7-4295-8864-6858e7d54306/f9325d96-...   \n",
       "20   cnmf  eaf1_session4  f9325d96-3ef7-4295-8864-6858e7d54306/f9325d96-...   \n",
       "21   cnmf  eaf1_session4  f9325d96-3ef7-4295-8864-6858e7d54306/f9325d96-...   \n",
       "22   cnmf  eaf1_session4  eaf1/calcium/session4/eaf4-s4-filtered-bilater...   \n",
       "23   cnmf  eaf1_session4  eaf1/calcium/session4/filtered-concat_session4...   \n",
       "24   cnmf  eaf1_session4  eaf1/calcium/session4/filtered-concat_session4...   \n",
       "25   cnmf  eaf1_session4  eaf1/calcium/session4/filtered-concat_session4...   \n",
       "26   cnmf  eaf1_session4  eaf1/calcium/session4/filtered-concat_session4...   \n",
       "\n",
       "                                               params  \\\n",
       "0   {'main': {'max_shifts': (24, 24), 'strides': (...   \n",
       "1   {'main': {'max_shifts': (24, 24), 'strides': (...   \n",
       "2   {'main': {'max_shifts': (24, 24), 'strides': (...   \n",
       "3   {'main': {'max_shifts': (24, 24), 'strides': (...   \n",
       "4   {'main': {'max_shifts': (12, 12), 'strides': (...   \n",
       "5   {'main': {'max_shifts': (12, 12), 'strides': (...   \n",
       "6   {'main': {'fr': 15, 'p': 1, 'nb': 2, 'merge_th...   \n",
       "7   {'main': {'fr': 15, 'p': 1, 'nb': 2, 'merge_th...   \n",
       "8   {'main': {'fr': 15, 'p': 1, 'nb': 2, 'merge_th...   \n",
       "9   {'main': {'fr': 15, 'p': 1, 'nb': 2, 'merge_th...   \n",
       "10  {'main': {'fr': 15, 'p': 1, 'nb': 2, 'merge_th...   \n",
       "11  {'main': {'fr': 15, 'p': 1, 'nb': 2, 'merge_th...   \n",
       "12  {'main': {'fr': 15, 'p': 1, 'nb': 2, 'merge_th...   \n",
       "13  {'main': {'fr': 15, 'p': 1, 'nb': 2, 'merge_th...   \n",
       "14  {'main': {'fr': 15, 'p': 1, 'nb': 2, 'merge_th...   \n",
       "15  {'main': {'fr': 15, 'p': 1, 'nb': 2, 'merge_th...   \n",
       "16  {'main': {'fr': 15, 'p': 1, 'nb': 2, 'merge_th...   \n",
       "17  {'main': {'fr': 15, 'p': 1, 'nb': 2, 'merge_th...   \n",
       "18  {'main': {'fr': 15, 'p': 1, 'nb': 2, 'merge_th...   \n",
       "19  {'main': {'fr': 15, 'p': 1, 'nb': 2, 'merge_th...   \n",
       "20  {'main': {'fr': 15, 'p': 1, 'nb': 2, 'merge_th...   \n",
       "21  {'main': {'fr': 15, 'p': 1, 'nb': 2, 'merge_th...   \n",
       "22  {'main': {'fr': 15, 'p': 1, 'nb': 2, 'merge_th...   \n",
       "23  {'main': {'fr': 15, 'p': 1, 'nb': 2, 'merge_th...   \n",
       "24  {'main': {'fr': 15, 'p': 1, 'nb': 2, 'merge_th...   \n",
       "25  {'main': {'fr': 15, 'p': 1, 'nb': 2, 'merge_th...   \n",
       "26  {'main': {'fr': 15, 'p': 1, 'nb': 2, 'merge_th...   \n",
       "\n",
       "                                              outputs comments  \\\n",
       "0   {'mean-projection-path': 90cc9605-3fc0-4c4c-8c...     None   \n",
       "1   {'mean-projection-path': 2ae18c23-08de-4987-b5...     None   \n",
       "2   {'mean-projection-path': 3efacee7-1453-40ef-87...     None   \n",
       "3   {'mean-projection-path': f9325d96-3ef7-4295-88...     None   \n",
       "4   {'mean-projection-path': 5e622b7f-0985-413e-b9...     None   \n",
       "5   {'mean-projection-path': 0469b0e4-75e8-4af0-97...     None   \n",
       "6   {'mean-projection-path': 6f6255f2-b8fc-49ba-bc...     None   \n",
       "7   {'mean-projection-path': 9e31ce67-883f-43fe-b7...     None   \n",
       "8   {'mean-projection-path': 4cae2d6e-1ea5-47e0-8a...     None   \n",
       "9   {'mean-projection-path': a1f58223-978b-42bc-a1...     None   \n",
       "10  {'mean-projection-path': 94e77e69-6dd7-4693-9e...     None   \n",
       "11  {'mean-projection-path': c6d67980-306e-4f77-8b...     None   \n",
       "12  {'mean-projection-path': b76ddf9c-723f-4921-9a...     None   \n",
       "13  {'mean-projection-path': 32b621b4-2f26-473d-a0...     None   \n",
       "14  {'mean-projection-path': da62a66a-9960-4d51-8d...     None   \n",
       "15  {'mean-projection-path': 61177f43-f645-4847-ba...     None   \n",
       "16  {'mean-projection-path': 693bb3a8-18f2-46ad-ae...     None   \n",
       "17  {'mean-projection-path': 0e348f6d-cc12-4034-aa...     None   \n",
       "18  {'mean-projection-path': c99ccaa0-4098-44d7-ab...     None   \n",
       "19  {'mean-projection-path': 1b0238c8-a4fb-4b66-88...     None   \n",
       "20  {'mean-projection-path': 4e61686c-4ff7-49b9-85...     None   \n",
       "21  {'mean-projection-path': eec61715-cdda-40b8-8a...     None   \n",
       "22  {'success': False, 'traceback': 'Traceback (mo...     None   \n",
       "23  {'mean-projection-path': e1421f9b-d01a-4823-82...     None   \n",
       "24  {'mean-projection-path': 102e7ec8-bcdd-49ad-9a...     None   \n",
       "25  {'mean-projection-path': 15118c77-e199-4baf-a3...     None   \n",
       "26  {'mean-projection-path': 9b0f79f7-cbad-40d2-a1...     None   \n",
       "\n",
       "                                    uuid           added_time  \\\n",
       "0   90cc9605-3fc0-4c4c-8c61-5c6db19ac1f8                 None   \n",
       "1   2ae18c23-08de-4987-b5e4-f805c196fc4d                 None   \n",
       "2   3efacee7-1453-40ef-87ed-acf6369fee85                 None   \n",
       "3   f9325d96-3ef7-4295-8864-6858e7d54306                 None   \n",
       "4   5e622b7f-0985-413e-b9db-51970e8a655e                 None   \n",
       "5   0469b0e4-75e8-4af0-97cf-bde0550ce109                 None   \n",
       "6   6f6255f2-b8fc-49ba-bccd-0e10cea98819                 None   \n",
       "7   9e31ce67-883f-43fe-b78b-2fc95bd452b3                 None   \n",
       "8   4cae2d6e-1ea5-47e0-8abf-e5d282fb64c1                 None   \n",
       "9   a1f58223-978b-42bc-a173-d31c0327e469                 None   \n",
       "10  94e77e69-6dd7-4693-9e4f-b8477d0b0e5b                 None   \n",
       "11  c6d67980-306e-4f77-8bf8-30d8feededdd  2023-01-18T02:22:33   \n",
       "12  b76ddf9c-723f-4921-9af8-2105b53ea3e6  2023-01-18T02:22:50   \n",
       "13  32b621b4-2f26-473d-a0be-d156c01d9040  2023-01-19T13:14:47   \n",
       "14  da62a66a-9960-4d51-8dac-4f7cb581591b  2023-01-19T13:14:58   \n",
       "15  61177f43-f645-4847-ba93-c4a7465522c9  2023-01-19T13:15:08   \n",
       "16  693bb3a8-18f2-46ad-ae4a-271f839ca136  2023-01-23T04:47:14   \n",
       "17  0e348f6d-cc12-4034-aa75-2df01d87b5e1  2023-01-23T05:30:25   \n",
       "18  c99ccaa0-4098-44d7-abc6-0116b555491e  2023-01-23T05:30:37   \n",
       "19  1b0238c8-a4fb-4b66-882d-d9570631487f  2023-01-23T05:31:02   \n",
       "20  4e61686c-4ff7-49b9-85c3-752a0db72f6e  2023-01-23T15:47:03   \n",
       "21  eec61715-cdda-40b8-8a2c-2b4e355371c1  2023-01-23T15:47:14   \n",
       "22  cc11149a-07d6-44ae-ba1a-f572744878c6  2023-01-23T18:10:34   \n",
       "23  e1421f9b-d01a-4823-8237-81a5ad7a952f  2023-01-23T19:08:59   \n",
       "24  102e7ec8-bcdd-49ad-9a96-b4ef4041e70f  2023-01-23T20:17:17   \n",
       "25  15118c77-e199-4baf-a35f-eb6b2c9c4a69  2023-01-23T20:36:59   \n",
       "26  9b0f79f7-cbad-40d2-a1ef-f24fe6038cbb  2023-01-23T20:37:04   \n",
       "\n",
       "               ran_time algo_duration  \n",
       "0                  None          None  \n",
       "1                  None          None  \n",
       "2                  None          None  \n",
       "3                  None          None  \n",
       "4                  None          None  \n",
       "5                  None          None  \n",
       "6                  None          None  \n",
       "7                  None          None  \n",
       "8                  None          None  \n",
       "9                  None          None  \n",
       "10                 None          None  \n",
       "11  2023-01-18T03:00:57   2179.58 sec  \n",
       "12  2023-01-18T03:38:09   2207.46 sec  \n",
       "13  2023-01-19T13:25:13    569.13 sec  \n",
       "14  2023-01-19T13:35:21    604.17 sec  \n",
       "15  2023-01-19T13:46:16    650.58 sec  \n",
       "16  2023-01-23T05:44:05    693.37 sec  \n",
       "17  2023-01-23T05:56:19    729.19 sec  \n",
       "18  2023-01-23T06:09:14    769.84 sec  \n",
       "19  2023-01-23T06:25:02    942.01 sec  \n",
       "20  2023-01-23T15:59:02    646.13 sec  \n",
       "21  2023-01-23T16:19:51    611.56 sec  \n",
       "22  2023-01-23T18:11:01      9.32 sec  \n",
       "23  2023-01-23T19:19:32    618.75 sec  \n",
       "24  2023-01-23T20:28:23    658.97 sec  \n",
       "25  2023-01-23T20:46:54    561.09 sec  \n",
       "26  2023-01-23T21:02:48    542.55 sec  "
      ]
     },
     "execution_count": 11,
     "metadata": {},
     "output_type": "execute_result"
    }
   ],
   "source": [
    "# load mesmerize batch that has already been run for this animal\n",
    "df = load_batch(get_parent_raw_data_path().joinpath('eaf1/calcium/batch/batch.pickle'))\n",
    "df"
   ]
  },
  {
   "cell_type": "markdown",
   "id": "5f9af748-063b-4e8b-b746-8bf688a6f5d0",
   "metadata": {},
   "source": [
    "#### We are going to use the results of row 26"
   ]
  },
  {
   "cell_type": "code",
   "execution_count": 12,
   "id": "22cacb7c-300e-4c3f-bb76-49cf568ee9b5",
   "metadata": {
    "tags": []
   },
   "outputs": [],
   "source": [
    "row_ix = 26"
   ]
  },
  {
   "cell_type": "markdown",
   "id": "e137871a-edcc-4b85-a055-37760f8a0ed9",
   "metadata": {},
   "source": [
    "#### Get the motion corrected and reconstructed movie"
   ]
  },
  {
   "cell_type": "code",
   "execution_count": 13,
   "id": "5469fce7-dc6d-45d7-8ad4-660af2315f3b",
   "metadata": {},
   "outputs": [],
   "source": [
    "raw = df.iloc[row_ix].caiman.get_input_movie()"
   ]
  },
  {
   "cell_type": "markdown",
   "id": "058d21cf-6f24-4f47-ae95-55ad674e6d7a",
   "metadata": {},
   "source": [
    "#### Get contours and SNR components"
   ]
  },
  {
   "cell_type": "code",
   "execution_count": 41,
   "id": "760aa1f1-fcb6-460c-9c34-e9ee5a19d1f2",
   "metadata": {},
   "outputs": [
    {
     "data": {
      "text/plain": [
       "array([ 0.24249106,  0.10373908, -0.13939034, -0.15015753,  0.08204876,\n",
       "       -0.1908793 , -0.05140921, -0.17028186,  0.16581392,  0.44946934])"
      ]
     },
     "execution_count": 41,
     "metadata": {},
     "output_type": "execute_result"
    }
   ],
   "source": [
    "# get the contours and center of masses using mesmerize_core\n",
    "contours, coms = df.iloc[row_ix].cnmf.get_contours(component_indices=\"good\", swap_dim=False)\n",
    "\n",
    "# get the signal-to-noise ratio of each \"good\" component to color components \n",
    "snr_comps = df.iloc[row_ix].cnmf.get_output().estimates.SNR_comp\n",
    "\n",
    "# get the good component_ixs\n",
    "good_ixs = df.iloc[row_ix].cnmf.get_good_components()\n",
    "\n",
    "# only get snr_comps of good_ixs\n",
    "snr_comps = snr_comps[good_ixs]\n",
    "\n",
    "np.log10(snr_comps)[:10]"
   ]
  },
  {
   "cell_type": "markdown",
   "id": "bc44e783-c5bc-4a25-9921-2c5cfe782587",
   "metadata": {},
   "source": [
    "### Components with low SNR will **purple** and those with higher SNR ratio will be **yellow**"
   ]
  },
  {
   "cell_type": "markdown",
   "id": "6a2c44f6-cf75-4a43-ab38-d8d38894cd3e",
   "metadata": {},
   "source": [
    "### Creating an interactive viualization to help with analysis"
   ]
  },
  {
   "cell_type": "markdown",
   "id": "b58e0180-02be-450f-9f82-db5336b3f4b6",
   "metadata": {},
   "source": [
    "Will need a euclidean helper function to indentify which contours has been clicked on. We hope to soon include this, and other common callback functions, in our interactivity system :D"
   ]
  },
  {
   "cell_type": "code",
   "execution_count": 19,
   "id": "665ea49c-4a5d-4417-8095-320b35f203a2",
   "metadata": {},
   "outputs": [],
   "source": [
    "def euclidean(source, target, event, new_data):\n",
    "    \"\"\"maps click events to contour\"\"\"\n",
    "    # calculate coms of line collection\n",
    "    indices = np.array(event.pick_info[\"index\"])\n",
    "    \n",
    "    coms = list()\n",
    "\n",
    "    for contour in target.graphics:\n",
    "        coors = contour.data()[~np.isnan(contour.data()).any(axis=1)]\n",
    "        com = coors.mean(axis=0)\n",
    "        coms.append(com)\n",
    "\n",
    "    # euclidean distance to find closest index of com \n",
    "    indices = np.append(indices, [0])\n",
    "    \n",
    "    ix = int(np.linalg.norm((coms - indices), axis=1).argsort()[0])\n",
    "    \n",
    "    target.set_feature(feature=\"colors\", new_data=new_data, indices=ix)\n",
    "    \n",
    "    return None"
   ]
  },
  {
   "cell_type": "markdown",
   "id": "af0e7493-e149-4656-966d-55ba2a38d929",
   "metadata": {},
   "source": [
    "#### Create a layout to display the raw neural activity and associated temporal data for each identified neuron"
   ]
  },
  {
   "cell_type": "code",
   "execution_count": 20,
   "id": "663cbf0b-5e64-4188-a9c9-1ffa9dded2a1",
   "metadata": {},
   "outputs": [
    {
     "data": {
      "application/vnd.jupyter.widget-view+json": {
       "model_id": "75cdc628d5ee4fbdb289290fac229516",
       "version_major": 2,
       "version_minor": 0
      },
      "text/plain": [
       "RFBOutputContext()"
      ]
     },
     "metadata": {},
     "output_type": "display_data"
    },
    {
     "data": {
      "application/vnd.jupyter.widget-view+json": {
       "model_id": "45b52c4aa5864c93ab0609120354abf2",
       "version_major": 2,
       "version_minor": 0
      },
      "text/plain": [
       "RFBOutputContext()"
      ]
     },
     "metadata": {},
     "output_type": "display_data"
    },
    {
     "data": {
      "application/vnd.jupyter.widget-view+json": {
       "model_id": "84e9dfea11f7416582859c10e5882c6c",
       "version_major": 2,
       "version_minor": 0
      },
      "text/plain": [
       "VBox(children=(JupyterOutputContext(children=(JupyterWgpuCanvas(), IpywidgetToolBar(children=(Button(icon='exp…"
      ]
     },
     "execution_count": 20,
     "metadata": {},
     "output_type": "execute_result"
    }
   ],
   "source": [
    "# create image widget for raw neural activity \n",
    "raw_iw = fpl.ImageWidget(\n",
    "    data=[raw],\n",
    "    names=[\"raw\"]\n",
    ")\n",
    "\n",
    "# re-add our identified good components from before using the SNR mapping\n",
    "contours_graphic = raw_iw.gridplot[\"raw\"].add_line_collection(\n",
    "                                                    data=contours, \n",
    "                                                    # use our snr components as cmap values\n",
    "                                                    cmap_values=np.log10(snr_comps),\n",
    "                                                    cmap=\"spring\",\n",
    "                                                    thickness=2,\n",
    "                                                    name=\"contours\")\n",
    "\n",
    "# get temporal components\n",
    "temporal = df.iloc[row_ix].cnmf.get_temporal(component_indices=\"good\")\n",
    "\n",
    "# temporal plot\n",
    "plot_temporal = fpl.Plot(size=(600,100))\n",
    "plot_temporal.add_line(temporal[0], colors=\"magenta\")\n",
    "\n",
    "# add a linear selector to temporal trace\n",
    "plot_temporal.graphics[0].add_linear_selector()\n",
    "\n",
    "# show temporal plot and mcorr/rcm plot in ipywidgets VBox \n",
    "sc = Sidecar()\n",
    "\n",
    "with sc:\n",
    "    display(VBox([raw_iw.show(), plot_temporal.show()]))"
   ]
  },
  {
   "cell_type": "code",
   "execution_count": 21,
   "id": "543c0a90-d89d-4aeb-bfff-f91a982c594d",
   "metadata": {
    "tags": []
   },
   "outputs": [],
   "source": [
    "# link the linear selector to the image widget time slider\n",
    "plot_temporal.selectors[0].add_ipywidget_handler(raw_iw.sliders[\"t\"])"
   ]
  },
  {
   "cell_type": "markdown",
   "id": "43493a01-4b83-4897-8e6f-82590297f4eb",
   "metadata": {},
   "source": [
    "#### Interacitvity of `Graphics` using `link()` and callback functions"
   ]
  },
  {
   "cell_type": "code",
   "execution_count": 22,
   "id": "420813af-8468-4497-bbaa-a277e03938e8",
   "metadata": {},
   "outputs": [],
   "source": [
    "# link image to contours\n",
    "image_graphic = raw_iw.gridplot[\"raw\"][\"image_widget_managed\"]\n",
    "\n",
    "image_graphic.link(\n",
    "    \"click\",\n",
    "    target=contours_graphic,\n",
    "    feature=\"colors\", \n",
    "    new_data=\"white\", \n",
    "    callback=euclidean\n",
    ")\n",
    "\n",
    "# callback function to display correct temporal trace\n",
    "def update_temporal(ev):\n",
    "    # get data of selected ix\n",
    "    data = temporal[ev.pick_info[\"collection-index\"]]\n",
    "    \n",
    "    # add trace to plot \n",
    "    plot_temporal.graphics[0].data = data\n",
    "    \n",
    "    # autoscale the temporal plot\n",
    "    plot_temporal.auto_scale()\n",
    "\n",
    "# add event handler so that temporal trace is generated when contour is clicked on\n",
    "contours_graphic[:].colors.add_event_handler(update_temporal)\n",
    "\n",
    "# thickness of contour\n",
    "contours_graphic.link(\"colors\", target=contours_graphic, feature=\"thickness\", new_data=5)"
   ]
  },
  {
   "cell_type": "code",
   "execution_count": 23,
   "id": "c87dad08-dc63-426c-83f0-4bc4a8fc622f",
   "metadata": {
    "tags": []
   },
   "outputs": [],
   "source": [
    "plot_temporal.close()\n",
    "raw_iw.close()"
   ]
  },
  {
   "cell_type": "markdown",
   "id": "358e0beb-ecf0-4f2d-bae1-2b789ebb6604",
   "metadata": {},
   "source": [
    "### Syncing behavior and calcium data using `pynapple`"
   ]
  },
  {
   "cell_type": "markdown",
   "id": "17b6ad30-188d-4fc0-8f1e-79a06e168a4c",
   "metadata": {},
   "source": [
    "Having data input streams collected at different frame rates is a common problem. Here we will use `pynapple` in order to sync our two datastreams for future analysis."
   ]
  },
  {
   "cell_type": "code",
   "execution_count": null,
   "id": "7dead909-b503-42f1-b3ba-a9cecaa09220",
   "metadata": {},
   "outputs": [],
   "source": [
    "import tifffile"
   ]
  },
  {
   "cell_type": "markdown",
   "id": "e6aa5eef-3784-4c92-8a1f-7752ebe785cb",
   "metadata": {},
   "source": [
    "#### We have pre-concatenated all of the behavior videos for this session to reduce the amount of boilerplate code"
   ]
  },
  {
   "cell_type": "code",
   "execution_count": 25,
   "id": "59d28c3f-2366-4973-9e05-81c6b8b0ec1a",
   "metadata": {},
   "outputs": [],
   "source": [
    "concat_behavior = tifffile.memmap(\"/home/clewis7/Desktop/sfn_data/preconcat.tiff\")"
   ]
  },
  {
   "cell_type": "code",
   "execution_count": 26,
   "id": "ea3d3dd3-5064-4c13-8c6c-d20fcd359d58",
   "metadata": {},
   "outputs": [
    {
     "data": {
      "text/plain": [
       "(318850, 256, 336)"
      ]
     },
     "execution_count": 26,
     "metadata": {},
     "output_type": "execute_result"
    }
   ],
   "source": [
    "concat_behavior.shape"
   ]
  },
  {
   "cell_type": "markdown",
   "id": "66c837ed-2cff-4d43-a422-e618de4b9ed4",
   "metadata": {},
   "source": [
    "#### Recording Frame Rates:"
   ]
  },
  {
   "cell_type": "code",
   "execution_count": 27,
   "id": "9a1f220b-49ab-4440-a2e4-bcbf87f7cdc5",
   "metadata": {},
   "outputs": [],
   "source": [
    "behavior_fr = 500\n",
    "calcium_fr = 15.2414"
   ]
  },
  {
   "cell_type": "markdown",
   "id": "fb571025-82b3-4c2e-a045-b0bcb912ab2f",
   "metadata": {},
   "source": [
    "#### Create `pynapple` tensors for behavior and calcium data based on frame rate"
   ]
  },
  {
   "cell_type": "code",
   "execution_count": 28,
   "id": "b8eb3370-0cc1-4855-898b-a06be4c289b5",
   "metadata": {},
   "outputs": [],
   "source": [
    "# making a timestamp for the behavioral video\n",
    "t_behavior = np.linspace(0, concat_behavior.shape[0] / behavior_fr, concat_behavior.shape[0])"
   ]
  },
  {
   "cell_type": "code",
   "execution_count": 29,
   "id": "ad16f013-3a6e-4901-ab75-4ea0e72ce38b",
   "metadata": {
    "tags": []
   },
   "outputs": [
    {
     "data": {
      "text/plain": [
       "(318850,)"
      ]
     },
     "execution_count": 29,
     "metadata": {},
     "output_type": "execute_result"
    }
   ],
   "source": [
    "t_behavior.shape"
   ]
  },
  {
   "cell_type": "code",
   "execution_count": 30,
   "id": "662d958f-ed86-4719-a93c-dc5f11d698fa",
   "metadata": {
    "tags": []
   },
   "outputs": [
    {
     "data": {
      "text/plain": [
       "637.7"
      ]
     },
     "execution_count": 30,
     "metadata": {},
     "output_type": "execute_result"
    }
   ],
   "source": [
    "t_behavior[-1]"
   ]
  },
  {
   "cell_type": "markdown",
   "id": "21a612e9-92bb-4a84-b154-fafcfa46abd7",
   "metadata": {},
   "source": [
    "#### Use `pynapple` to create an indexable tensor of our behavioral data"
   ]
  },
  {
   "cell_type": "code",
   "execution_count": 31,
   "id": "1526620a-46a5-484a-b7f0-e40d22eb0c46",
   "metadata": {},
   "outputs": [],
   "source": [
    "tsd_video = nap.TsdTensor(t_behavior, concat_behavior)"
   ]
  },
  {
   "cell_type": "code",
   "execution_count": 32,
   "id": "34cdbfbd-6b58-4a7a-8268-8c1d7e8d5868",
   "metadata": {
    "tags": []
   },
   "outputs": [
    {
     "data": {
      "text/plain": [
       "Time (s)\n",
       "-------------  -----------------\n",
       "0.0            [[0 ... 9] ...]\n",
       "0.002000006    [[0 ... 9] ...]\n",
       "0.004000013    [[0 ... 9] ...]\n",
       "0.006000019    [[15 ... 9] ...]\n",
       "0.008000025    [[10 ... 9] ...]\n",
       "...\n",
       "637.691999975  [[29 ... 10] ...]\n",
       "637.693999981  [[25 ... 10] ...]\n",
       "637.695999987  [[20 ... 10] ...]\n",
       "637.697999994  [[25 ... 10] ...]\n",
       "637.7          [[25 ... 10] ...]\n",
       "dtype: uint8, shape: (318850, 256, 336)"
      ]
     },
     "execution_count": 32,
     "metadata": {},
     "output_type": "execute_result"
    }
   ],
   "source": [
    "# all of our time points and corresponding behavior frames mapped\n",
    "tsd_video"
   ]
  },
  {
   "cell_type": "markdown",
   "id": "de2f1528-783d-4786-9c97-ebb77af0f966",
   "metadata": {},
   "source": [
    "#### Do the same for our calcium data"
   ]
  },
  {
   "cell_type": "code",
   "execution_count": 33,
   "id": "0f326651-1bd5-46e1-b084-8135d1384304",
   "metadata": {},
   "outputs": [],
   "source": [
    "# making a timestamp for the calcium video\n",
    "t_calcium = np.linspace(0, raw.shape[0] / calcium_fr, raw.shape[0])"
   ]
  },
  {
   "cell_type": "code",
   "execution_count": 34,
   "id": "56112216-ffcc-438d-b7bf-deff06df9c8c",
   "metadata": {
    "tags": []
   },
   "outputs": [
    {
     "data": {
      "text/plain": [
       "(9153,)"
      ]
     },
     "execution_count": 34,
     "metadata": {},
     "output_type": "execute_result"
    }
   ],
   "source": [
    "t_calcium.shape"
   ]
  },
  {
   "cell_type": "code",
   "execution_count": 35,
   "id": "dca71276-617e-406a-9cda-5ab6f64525f4",
   "metadata": {
    "tags": []
   },
   "outputs": [
    {
     "data": {
      "text/plain": [
       "600.5353838886191"
      ]
     },
     "execution_count": 35,
     "metadata": {},
     "output_type": "execute_result"
    }
   ],
   "source": [
    "t_calcium[-1]"
   ]
  },
  {
   "cell_type": "markdown",
   "id": "7faa2ff8-f224-4bc5-9626-48c630ce4374",
   "metadata": {},
   "source": [
    "#### Use `pynapple` to create an indexable tensor of our calcium data"
   ]
  },
  {
   "cell_type": "code",
   "execution_count": 36,
   "id": "4247883f-bd19-49a0-8e4c-ce84b9d3eac6",
   "metadata": {},
   "outputs": [],
   "source": [
    "tsd_calcium = nap.TsdTensor(t_calcium, raw)"
   ]
  },
  {
   "cell_type": "markdown",
   "id": "2129304d-87df-4262-9576-d8f32bc9ae4e",
   "metadata": {},
   "source": [
    "#### Create a `GridPlot` for calcium and concatenated behavior videos"
   ]
  },
  {
   "cell_type": "markdown",
   "id": "328c1244-1274-400b-a269-bcab3eca4e91",
   "metadata": {},
   "source": [
    "Here we are going to create a `GridPlot` and manually update the data in each subplot as we slide through time using our previously created `pynapple` tensors. \n",
    "\n",
    "The reason that we cannot use an `ImageWidget` here is because the framerate of our behavioral and calcium data is different. `ImageWidget` assumes that the data arrays in each subplot are all of the same framerate. "
   ]
  },
  {
   "cell_type": "code",
   "execution_count": 37,
   "id": "688330d7-7a02-4f90-8387-7c4acaa34665",
   "metadata": {
    "tags": []
   },
   "outputs": [
    {
     "data": {
      "application/vnd.jupyter.widget-view+json": {
       "model_id": "56d9aa0f21bc49fe9bf83ab3ee95610b",
       "version_major": 2,
       "version_minor": 0
      },
      "text/plain": [
       "RFBOutputContext()"
      ]
     },
     "metadata": {},
     "output_type": "display_data"
    },
    {
     "data": {
      "text/plain": [
       "<weakproxy at 0x7fab5ca99a80 to ImageGraphic at 0x7fab5d156690>"
      ]
     },
     "execution_count": 37,
     "metadata": {},
     "output_type": "execute_result"
    }
   ],
   "source": [
    "nap_plot = fpl.GridPlot(shape=(1,2), names=[[\"raw\", \"behavior\"]])\n",
    "\n",
    "nap_plot[\"raw\"].add_image(data=raw[0])\n",
    "nap_plot[\"behavior\"].add_image(data=tsd_video[0], cmap=\"gray\")"
   ]
  },
  {
   "cell_type": "markdown",
   "id": "c6fb9679-3855-4a57-93a0-00e219dcb954",
   "metadata": {},
   "source": [
    "#### Create slider that updates behavior and calcium data so they are aligned"
   ]
  },
  {
   "cell_type": "code",
   "execution_count": null,
   "id": "4145a1e2-73cf-4311-9ae5-be227527b35e",
   "metadata": {},
   "outputs": [],
   "source": [
    "# add window function for average\n",
    "# add a line with the temporal component with a linear selector that moves based on pynapple tsd"
   ]
  },
  {
   "cell_type": "code",
   "execution_count": 42,
   "id": "a15afa9a-fddf-4e26-9af8-0413f4284f97",
   "metadata": {},
   "outputs": [],
   "source": [
    "# This time will be in milliseconds\n",
    "synced_time = IntSlider(min=0, max=22*19 * 1_000, description=\"ms\")\n",
    "\n",
    "def update_time(change):\n",
    "    # get the index of synced slider\n",
    "    time_ms = change[\"new\"]\n",
    "    # get the corresponding calcium frame from the pynapple tensor\n",
    "    frame_raw = tsd_calcium.get(time_ms, time_units=\"ms\")\n",
    "    # update the data in the plot\n",
    "    nap_plot[\"raw\"].graphics[0].data = frame_raw\n",
    "    # get the corresponding behavior frame from the pynapple tensor\n",
    "    frame_behavior = tsd_video.get(time_ms, time_units=\"ms\")\n",
    "    # update the data in the plot\n",
    "    nap_plot[\"behavior\"].graphics[0].data = frame_behavior\n",
    "\n",
    "synced_time.observe(update_time, \"value\")"
   ]
  },
  {
   "cell_type": "code",
   "execution_count": 43,
   "id": "040c3d22-797f-4144-8e19-cbbb53f53e34",
   "metadata": {},
   "outputs": [
    {
     "data": {
      "application/vnd.jupyter.widget-view+json": {
       "model_id": "999ad39c6c5a4e8aa7df2ffaaabe3a10",
       "version_major": 2,
       "version_minor": 0
      },
      "text/plain": [
       "VBox(children=(JupyterOutputContext(children=(JupyterWgpuCanvas(frame_feedback={'index': 1006, 'timestamp': 16…"
      ]
     },
     "execution_count": 43,
     "metadata": {},
     "output_type": "execute_result"
    }
   ],
   "source": [
    "VBox([nap_plot.show(), synced_time])"
   ]
  },
  {
   "cell_type": "code",
   "execution_count": null,
   "id": "28382190-3b00-44b7-99d7-d74ab3b4990e",
   "metadata": {},
   "outputs": [],
   "source": []
  }
 ],
 "metadata": {
  "kernelspec": {
   "display_name": "Python 3 (ipykernel)",
   "language": "python",
   "name": "python3"
  },
  "language_info": {
   "codemirror_mode": {
    "name": "ipython",
    "version": 3
   },
   "file_extension": ".py",
   "mimetype": "text/x-python",
   "name": "python",
   "nbconvert_exporter": "python",
   "pygments_lexer": "ipython3",
   "version": "3.11.3"
  }
 },
 "nbformat": 4,
 "nbformat_minor": 5
}
